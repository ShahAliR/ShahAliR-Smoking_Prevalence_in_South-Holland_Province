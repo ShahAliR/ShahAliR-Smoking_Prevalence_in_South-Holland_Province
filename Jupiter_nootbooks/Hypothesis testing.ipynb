{
 "cells": [
  {
   "cell_type": "code",
   "execution_count": 4,
   "id": "917430f7",
   "metadata": {},
   "outputs": [],
   "source": [
    "import pandas as pd\n",
    "import numpy as np"
   ]
  },
  {
   "cell_type": "code",
   "execution_count": 5,
   "id": "c9bb1b46",
   "metadata": {},
   "outputs": [],
   "source": [
    "data = pd.read_csv('data_fi1.csv')"
   ]
  },
  {
   "cell_type": "code",
   "execution_count": null,
   "id": "58565270",
   "metadata": {},
   "outputs": [],
   "source": [
    " \n",
    "# I select a value for alpha of 0.05 (p-value threshold)\n",
    "\n",
    "# one-sided test:\n",
    "# # Null hypothesis or H0: smoker percentage in big cities =< smoker percentage in small cities\n",
    "# # Alternative hyp or H1: Smoker percentage in big cities > smoker percentage in small cities\n",
    " "
   ]
  },
  {
   "cell_type": "code",
   "execution_count": 6,
   "id": "94839c3e",
   "metadata": {},
   "outputs": [
    {
     "data": {
      "text/plain": [
       "0    14.0\n",
       "1    22.1\n",
       "2    17.8\n",
       "3    15.5\n",
       "4    14.9\n",
       "Name: smoker_p, dtype: float64"
      ]
     },
     "metadata": {},
     "output_type": "display_data"
    },
    {
     "data": {
      "text/plain": [
       "933    18.8\n",
       "934    20.0\n",
       "935    16.1\n",
       "936    22.3\n",
       "937    18.6\n",
       "Name: smoker_p, dtype: float64"
      ]
     },
     "metadata": {},
     "output_type": "display_data"
    }
   ],
   "source": [
    "small = data[data['big_small'] ==  0 ]['smoker_p']\n",
    "display(small.head())\n",
    "big = data[data['big_small'] ==  1 ]['smoker_p']\n",
    "display(big.head())\n"
   ]
  },
  {
   "cell_type": "code",
   "execution_count": 7,
   "id": "80635b57",
   "metadata": {},
   "outputs": [
    {
     "name": "stdout",
     "output_type": "stream",
     "text": [
      "(-3.417985145331314, -2.68923822710945)\n"
     ]
    }
   ],
   "source": [
    "import numpy as np, statsmodels.stats.api as sms\n",
    "cm = sms.CompareMeans(sms.DescrStatsW(small), sms.DescrStatsW(big))\n",
    "print(cm.tconfint_diff(usevar='unequal'))"
   ]
  },
  {
   "cell_type": "code",
   "execution_count": null,
   "id": "357fcd8f",
   "metadata": {},
   "outputs": [],
   "source": [
    "# we select a value for alpha of 0.05 (p-value threshold)\n",
    "\n",
    "# one-sided test:\n",
    "# # Null hypothesis or H0: loneliness percentage in big cities = loneliness percentage in small cities\n",
    "# # Alternative hyp or H1: loneliness percentage in big cities > loneliness percentage in small cities"
   ]
  },
  {
   "cell_type": "code",
   "execution_count": 8,
   "id": "db35c147",
   "metadata": {},
   "outputs": [
    {
     "data": {
      "text/plain": [
       "0    39.0\n",
       "1    49.3\n",
       "2    41.2\n",
       "3    37.6\n",
       "4    40.3\n",
       "Name: lonely, dtype: float64"
      ]
     },
     "metadata": {},
     "output_type": "display_data"
    },
    {
     "data": {
      "text/plain": [
       "933    49.1\n",
       "934    49.5\n",
       "935    50.1\n",
       "936    54.1\n",
       "937    59.2\n",
       "Name: lonely, dtype: float64"
      ]
     },
     "metadata": {},
     "output_type": "display_data"
    }
   ],
   "source": [
    "small2 = data[data['big_small'] == 0]['lonely']\n",
    "display(small2.head())\n",
    "big2 = data[data['big_small'] == 1]['lonely']\n",
    "display(big2.head())"
   ]
  },
  {
   "cell_type": "code",
   "execution_count": 9,
   "id": "baa8fcd3",
   "metadata": {},
   "outputs": [
    {
     "name": "stdout",
     "output_type": "stream",
     "text": [
      "t-value = -26.916410277746884\n",
      "p-value = 1.2420024314620105e-150\n",
      "we reject null hypothesis\n"
     ]
    }
   ],
   "source": [
    "from scipy.stats import ttest_ind\n",
    "ttest,pval = ttest_ind(small2,big2)\n",
    "print(\"t-value =\", ttest)\n",
    "print(\"p-value =\",pval)\n",
    "\n",
    "if pval <0.05:\n",
    "  print(\"we reject null hypothesis\")\n",
    "else:\n",
    "  print(\"we do not reject the null hypothesis\")"
   ]
  },
  {
   "cell_type": "code",
   "execution_count": 10,
   "id": "5a542c5d",
   "metadata": {},
   "outputs": [
    {
     "name": "stdout",
     "output_type": "stream",
     "text": [
      "(-7.913898435500508, -6.836812716859802)\n"
     ]
    }
   ],
   "source": [
    "cm2 = sms.CompareMeans(sms.DescrStatsW(small2), sms.DescrStatsW(big2))\n",
    "print(cm2.tconfint_diff(usevar='unequal'))"
   ]
  }
 ],
 "metadata": {
  "kernelspec": {
   "display_name": "Python 3",
   "language": "python",
   "name": "python3"
  },
  "language_info": {
   "codemirror_mode": {
    "name": "ipython",
    "version": 3
   },
   "file_extension": ".py",
   "mimetype": "text/x-python",
   "name": "python",
   "nbconvert_exporter": "python",
   "pygments_lexer": "ipython3",
   "version": "3.9.12"
  },
  "toc": {
   "base_numbering": 1,
   "nav_menu": {},
   "number_sections": true,
   "sideBar": true,
   "skip_h1_title": false,
   "title_cell": "Table of Contents",
   "title_sidebar": "Contents",
   "toc_cell": false,
   "toc_position": {},
   "toc_section_display": true,
   "toc_window_display": false
  }
 },
 "nbformat": 4,
 "nbformat_minor": 5
}
